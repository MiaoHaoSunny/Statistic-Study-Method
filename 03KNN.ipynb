{
 "cells": [
  {
   "cell_type": "code",
   "execution_count": 1,
   "metadata": {},
   "outputs": [],
   "source": [
    "import numpy as np\n",
    "import matplotlib.pyplot as plt\n",
    "import pandas as pd\n",
    "from math import sqrt\n",
    "from sklearn.datasets import load_iris\n",
    "from sklearn.model_selection import train_test_split"
   ]
  },
  {
   "cell_type": "code",
   "execution_count": 2,
   "metadata": {},
   "outputs": [],
   "source": [
    "iris = load_iris()\n",
    "df = pd.DataFrame(iris.data, columns=iris.feature_names)\n",
    "df['label'] = iris.target\n",
    "df.columns = ['sepal_length', 'sepal_width', 'petal_length','petal_width', 'label']"
   ]
  },
  {
   "cell_type": "code",
   "execution_count": 3,
   "metadata": {},
   "outputs": [],
   "source": [
    "data = np.array(df.iloc[:100, [0, 1, -1]])"
   ]
  },
  {
   "cell_type": "code",
   "execution_count": 4,
   "metadata": {},
   "outputs": [
    {
     "name": "stdout",
     "output_type": "stream",
     "text": [
      "     sepal_length  sepal_width  petal_length  petal_width  label\n",
      "0             5.1          3.5           1.4          0.2      0\n",
      "1             4.9          3.0           1.4          0.2      0\n",
      "2             4.7          3.2           1.3          0.2      0\n",
      "3             4.6          3.1           1.5          0.2      0\n",
      "4             5.0          3.6           1.4          0.2      0\n",
      "5             5.4          3.9           1.7          0.4      0\n",
      "6             4.6          3.4           1.4          0.3      0\n",
      "7             5.0          3.4           1.5          0.2      0\n",
      "8             4.4          2.9           1.4          0.2      0\n",
      "9             4.9          3.1           1.5          0.1      0\n",
      "10            5.4          3.7           1.5          0.2      0\n",
      "11            4.8          3.4           1.6          0.2      0\n",
      "12            4.8          3.0           1.4          0.1      0\n",
      "13            4.3          3.0           1.1          0.1      0\n",
      "14            5.8          4.0           1.2          0.2      0\n",
      "15            5.7          4.4           1.5          0.4      0\n",
      "16            5.4          3.9           1.3          0.4      0\n",
      "17            5.1          3.5           1.4          0.3      0\n",
      "18            5.7          3.8           1.7          0.3      0\n",
      "19            5.1          3.8           1.5          0.3      0\n",
      "20            5.4          3.4           1.7          0.2      0\n",
      "21            5.1          3.7           1.5          0.4      0\n",
      "22            4.6          3.6           1.0          0.2      0\n",
      "23            5.1          3.3           1.7          0.5      0\n",
      "24            4.8          3.4           1.9          0.2      0\n",
      "25            5.0          3.0           1.6          0.2      0\n",
      "26            5.0          3.4           1.6          0.4      0\n",
      "27            5.2          3.5           1.5          0.2      0\n",
      "28            5.2          3.4           1.4          0.2      0\n",
      "29            4.7          3.2           1.6          0.2      0\n",
      "..            ...          ...           ...          ...    ...\n",
      "120           6.9          3.2           5.7          2.3      2\n",
      "121           5.6          2.8           4.9          2.0      2\n",
      "122           7.7          2.8           6.7          2.0      2\n",
      "123           6.3          2.7           4.9          1.8      2\n",
      "124           6.7          3.3           5.7          2.1      2\n",
      "125           7.2          3.2           6.0          1.8      2\n",
      "126           6.2          2.8           4.8          1.8      2\n",
      "127           6.1          3.0           4.9          1.8      2\n",
      "128           6.4          2.8           5.6          2.1      2\n",
      "129           7.2          3.0           5.8          1.6      2\n",
      "130           7.4          2.8           6.1          1.9      2\n",
      "131           7.9          3.8           6.4          2.0      2\n",
      "132           6.4          2.8           5.6          2.2      2\n",
      "133           6.3          2.8           5.1          1.5      2\n",
      "134           6.1          2.6           5.6          1.4      2\n",
      "135           7.7          3.0           6.1          2.3      2\n",
      "136           6.3          3.4           5.6          2.4      2\n",
      "137           6.4          3.1           5.5          1.8      2\n",
      "138           6.0          3.0           4.8          1.8      2\n",
      "139           6.9          3.1           5.4          2.1      2\n",
      "140           6.7          3.1           5.6          2.4      2\n",
      "141           6.9          3.1           5.1          2.3      2\n",
      "142           5.8          2.7           5.1          1.9      2\n",
      "143           6.8          3.2           5.9          2.3      2\n",
      "144           6.7          3.3           5.7          2.5      2\n",
      "145           6.7          3.0           5.2          2.3      2\n",
      "146           6.3          2.5           5.0          1.9      2\n",
      "147           6.5          3.0           5.2          2.0      2\n",
      "148           6.2          3.4           5.4          2.3      2\n",
      "149           5.9          3.0           5.1          1.8      2\n",
      "\n",
      "[150 rows x 5 columns]\n"
     ]
    }
   ],
   "source": [
    "print(df)"
   ]
  },
  {
   "cell_type": "code",
   "execution_count": 5,
   "metadata": {},
   "outputs": [],
   "source": [
    "train, test = train_test_split(data, test_size=0.1)"
   ]
  },
  {
   "cell_type": "code",
   "execution_count": 6,
   "metadata": {},
   "outputs": [],
   "source": [
    "x0 = np.array([x0 for i, x0 in enumerate(train) if train[i][-1] == 0])\n",
    "x1 = np.array([x1 for i, x1 in enumerate(train) if train[i][-1] == 1])"
   ]
  },
  {
   "cell_type": "code",
   "execution_count": 7,
   "metadata": {},
   "outputs": [
    {
     "data": {
      "image/png": "[encoded data removed]",
      "text/plain": [
       "<Figure size 432x288 with 1 Axes>"
      ]
     },
     "metadata": {
      "needs_background": "light"
     },
     "output_type": "display_data"
    }
   ],
   "source": [
    "def show_train():\n",
    "    plt.scatter(x0[:, 0], x0[:, 1], c='pink', label='[0]')\n",
    "    plt.scatter(x1[:, 0], x1[:, 1], c='orange', label='[1]')\n",
    "    plt.xlabel('sepal length')\n",
    "    plt.ylabel('sepal width')\n",
    "show_train()"
   ]
  },
  {
   "cell_type": "code",
   "execution_count": 12,
   "metadata": {},
   "outputs": [],
   "source": [
    "class Node:\n",
    "    def __init__(self, data, depth=0, lchild=None, rchild=None):\n",
    "        self.data = data\n",
    "        self.depth = depth\n",
    "        self.lchild = lchild\n",
    "        self.rchild = rchild"
   ]
  },
  {
   "cell_type": "code",
   "execution_count": 22,
   "metadata": {},
   "outputs": [],
   "source": [
    "class kdTree:\n",
    "    def __init__(self):\n",
    "        self.kdTree = None\n",
    "        self.n = 0\n",
    "        self.nearest = None\n",
    "    \n",
    "    def create(self, dataSet, depth=0):\n",
    "        if len(dataSet) > 0:\n",
    "            m, n = np.shape(dataSet)\n",
    "            self.n = n-1\n",
    "            axis = depth % self.n\n",
    "            mid = int(m / 2)\n",
    "            dataSetcopy = sorted(dataSet, key=lambda x: x[axis])\n",
    "            node = Node(dataSetcopy[mid], depth)\n",
    "            if depth == 0:\n",
    "                self.kdTree = node\n",
    "            node.lchild = self.create(dataSetcopy[:mid], depth+1)\n",
    "            node.rchild = self.create(dataSetcopy[mid+1:], depth+1)\n",
    "            return node\n",
    "        return None\n",
    "    \n",
    "    def preOrder(self, node):\n",
    "        if node is not None:\n",
    "            print(node.depth, node.data)\n",
    "            self.preOrder(node.lchild)\n",
    "            self.preOrder(node.rchild)\n",
    "    \n",
    "    def search(self, x, count=1):\n",
    "        nearest = []\n",
    "        for i in range(count):\n",
    "            nearest.append([-1, None])\n",
    "        self.nearest = np.array(nearest)\n",
    "        \n",
    "        def recurve(node):\n",
    "            if node is not None:\n",
    "                axis = node.depth % self.n\n",
    "                daxis = x[axis] - node.data[axis]\n",
    "                if daxis < 0:\n",
    "                    recurve(node.lchild)\n",
    "                else:\n",
    "                    recurve(node.rchild)\n",
    "                dist = sqrt(sum((p1 - p2) ** 2 for p1, p2 in zip(x, node.data)))\n",
    "                for i, d in enumerate(self.nearest):\n",
    "                    if d[0] < 0 or dist < d[0]:\n",
    "                        self.nearest = np.insert(self.nearest, i, [dist, node], axis=0)\n",
    "                        self.nearest = self.nearest[:-1]\n",
    "                        break\n",
    "                n = list(self.nearest[:, 0]).count(-1)\n",
    "                if self.nearest[-n-1, 0] > abs(daxis):\n",
    "                    if daxis < 0:\n",
    "                        recurve(node.rchild)\n",
    "                    else:\n",
    "                        recurve(node.lchild)\n",
    "\n",
    "        recurve(self.kdTree)\n",
    "\n",
    "        knn = self.nearest[:, 1]\n",
    "        belong = []\n",
    "        for i in knn:\n",
    "            belong.append(i.data[-1])\n",
    "        b = max(set(belong), key=belong.count)\n",
    "\n",
    "        return self.nearest, b"
   ]
  },
  {
   "cell_type": "code",
   "execution_count": 23,
   "metadata": {},
   "outputs": [
    {
     "name": "stdout",
     "output_type": "stream",
     "text": [
      "0 [5.4 3.9 0. ]\n",
      "1 [4.8 3.4 0. ]\n",
      "2 [4.9 2.4 1. ]\n",
      "3 [4.8 3.  0. ]\n",
      "4 [4.4 3.  0. ]\n",
      "5 [4.3 3.  0. ]\n",
      "6 [4.4 2.9 0. ]\n",
      "5 [4.8 3.  0. ]\n",
      "6 [4.5 2.3 0. ]\n",
      "4 [4.6 3.4 0. ]\n",
      "5 [4.6 3.2 0. ]\n",
      "6 [4.4 3.2 0. ]\n",
      "5 [4.7 3.2 0. ]\n",
      "6 [4.8 3.1 0. ]\n",
      "3 [5. 3. 0.]\n",
      "4 [5.  2.3 1. ]\n",
      "5 [4.9 3.  0. ]\n",
      "6 [5. 2. 1.]\n",
      "5 [5.2 2.7 1. ]\n",
      "6 [5.1 2.5 1. ]\n",
      "4 [5.1 3.3 0. ]\n",
      "5 [5.  3.3 0. ]\n",
      "6 [4.9 3.1 0. ]\n",
      "5 [5.4 3.  1. ]\n",
      "2 [5.1 3.8 0. ]\n",
      "3 [5.1 3.5 0. ]\n",
      "4 [5.  3.5 0. ]\n",
      "5 [5.  3.4 0. ]\n",
      "6 [5.  3.4 0. ]\n",
      "5 [5.  3.5 0. ]\n",
      "6 [5.1 3.4 0. ]\n",
      "4 [5.  3.6 0. ]\n",
      "5 [4.9 3.6 0. ]\n",
      "6 [4.6 3.6 0. ]\n",
      "5 [5.1 3.7 0. ]\n",
      "6 [5.1 3.5 0. ]\n",
      "3 [5.4 3.7 0. ]\n",
      "4 [5.3 3.7 0. ]\n",
      "5 [5.2 3.5 0. ]\n",
      "6 [5.2 3.4 0. ]\n",
      "5 [5.4 3.4 0. ]\n",
      "6 [5.4 3.4 0. ]\n",
      "4 [5.2 4.1 0. ]\n",
      "5 [5.1 3.8 0. ]\n",
      "6 [5.1 3.8 0. ]\n",
      "5 [5.4 3.9 0. ]\n",
      "1 [6.1 2.9 1. ]\n",
      "2 [5.8 2.7 1. ]\n",
      "3 [5.7 2.6 1. ]\n",
      "4 [5.5 2.5 1. ]\n",
      "5 [5.5 2.4 1. ]\n",
      "6 [5.5 2.4 1. ]\n",
      "5 [5.5 2.6 1. ]\n",
      "6 [5.6 2.5 1. ]\n",
      "4 [5.7 2.8 1. ]\n",
      "5 [5.7 2.8 1. ]\n",
      "6 [5.6 2.7 1. ]\n",
      "5 [5.7 2.9 1. ]\n",
      "6 [5.8 2.6 1. ]\n",
      "3 [6.1 2.8 1. ]\n",
      "4 [6.  2.7 1. ]\n",
      "5 [5.8 2.7 1. ]\n",
      "6 [6.  2.2 1. ]\n",
      "5 [6.3 2.5 1. ]\n",
      "6 [6.3 2.3 1. ]\n",
      "4 [6.5 2.8 1. ]\n",
      "5 [6.  2.9 1. ]\n",
      "6 [6.1 2.8 1. ]\n",
      "5 [6.8 2.8 1. ]\n",
      "2 [6.2 2.9 1. ]\n",
      "3 [6.  3.4 1. ]\n",
      "4 [5.7 3.  1. ]\n",
      "5 [5.6 3.  1. ]\n",
      "6 [5.6 3.  1. ]\n",
      "5 [5.9 3.2 1. ]\n",
      "6 [6.1 3.  1. ]\n",
      "4 [5.7 4.4 0. ]\n",
      "5 [5.7 3.8 0. ]\n",
      "6 [5.5 3.5 0. ]\n",
      "5 [5.8 4.  0. ]\n",
      "3 [6.7 3.1 1. ]\n",
      "4 [6.6 3.  1. ]\n",
      "5 [6.6 2.9 1. ]\n",
      "6 [6.4 2.9 1. ]\n",
      "5 [6.7 3.1 1. ]\n",
      "6 [6.7 3.  1. ]\n",
      "4 [6.9 3.1 1. ]\n",
      "5 [6.3 3.3 1. ]\n",
      "6 [6.4 3.2 1. ]\n",
      "5 [7.  3.2 1. ]\n",
      "press Enter to show next:\n",
      "test:\n",
      "[5.5 4.2 0. ] predict: 0.0\n",
      "nearest:\n",
      "[5.7 4.4 0. ] dist: 0.2828427124746193\n",
      "[5.2 4.1 0. ] dist: 0.31622776601683794\n",
      "[5.4 3.9 0. ] dist: 0.31622776601683805\n",
      "[5.4 3.9 0. ] dist: 0.31622776601683805\n",
      "[5.8 4.  0. ] dist: 0.3605551275463989\n"
     ]
    },
    {
     "data": {
      "image/png": "[encoded data removed]",
      "text/plain": [
       "<Figure size 432x288 with 1 Axes>"
      ]
     },
     "metadata": {
      "needs_background": "light"
     },
     "output_type": "display_data"
    },
    {
     "name": "stdout",
     "output_type": "stream",
     "text": [
      "press Enter to show next:\n",
      "test:\n",
      "[5.  3.2 0. ] predict: 0.0\n",
      "nearest:\n",
      "[5.  3.3 0. ] dist: 0.09999999999999964\n",
      "[5.1 3.3 0. ] dist: 0.141421356237309\n",
      "[4.9 3.1 0. ] dist: 0.1414213562373093\n",
      "[5.  3.4 0. ] dist: 0.19999999999999973\n",
      "[5.  3.4 0. ] dist: 0.19999999999999973\n"
     ]
    },
    {
     "data": {
      "image/png": "[encoded data removed]",
      "text/plain": [
       "<Figure size 432x288 with 1 Axes>"
      ]
     },
     "metadata": {
      "needs_background": "light"
     },
     "output_type": "display_data"
    },
    {
     "name": "stdout",
     "output_type": "stream",
     "text": [
      "press Enter to show next:\n",
      "test:\n",
      "[4.9 3.1 0. ] predict: 0.0\n",
      "nearest:\n",
      "[4.9 3.1 0. ] dist: 0.0\n",
      "[4.9 3.  0. ] dist: 0.10000000000000009\n",
      "[4.8 3.1 0. ] dist: 0.10000000000000053\n",
      "[5. 3. 0.] dist: 0.1414213562373093\n",
      "[4.8 3.  0. ] dist: 0.14142135623730995\n"
     ]
    },
    {
     "data": {
      "image/png": "[encoded data removed]",
      "text/plain": [
       "<Figure size 432x288 with 1 Axes>"
      ]
     },
     "metadata": {
      "needs_background": "light"
     },
     "output_type": "display_data"
    },
    {
     "name": "stdout",
     "output_type": "stream",
     "text": [
      "press Enter to show next:\n",
      "test:\n",
      "[6.2 2.2 1. ] predict: 1.0\n",
      "nearest:\n",
      "[6.3 2.3 1. ] dist: 0.141421356237309\n",
      "[6.  2.2 1. ] dist: 0.20000000000000018\n",
      "[6.3 2.5 1. ] dist: 0.31622776601683766\n",
      "[6.  2.7 1. ] dist: 0.5385164807134505\n",
      "[5.8 2.6 1. ] dist: 0.5656854249492381\n"
     ]
    },
    {
     "data": {
      "image/png": "[encoded data removed]",
      "text/plain": [
       "<Figure size 432x288 with 1 Axes>"
      ]
     },
     "metadata": {
      "needs_background": "light"
     },
     "output_type": "display_data"
    },
    {
     "name": "stdout",
     "output_type": "stream",
     "text": [
      "press Enter to show next:\n",
      "test:\n",
      "[5.9 3.  1. ] predict: 1.0\n",
      "nearest:\n",
      "[6.  2.9 1. ] dist: 0.1414213562373093\n",
      "[6.1 3.  1. ] dist: 0.1999999999999993\n",
      "[5.9 3.2 1. ] dist: 0.20000000000000018\n",
      "[5.7 3.  1. ] dist: 0.20000000000000018\n",
      "[6.1 2.9 1. ] dist: 0.22360679774997838\n"
     ]
    },
    {
     "data": {
      "image/png": "[encoded data removed]",
      "text/plain": [
       "<Figure size 432x288 with 1 Axes>"
      ]
     },
     "metadata": {
      "needs_background": "light"
     },
     "output_type": "display_data"
    },
    {
     "name": "stdout",
     "output_type": "stream",
     "text": [
      "press Enter to show next:\n",
      "test:\n",
      "[4.7 3.2 0. ] predict: 0.0\n",
      "nearest:\n",
      "[4.7 3.2 0. ] dist: 0.0\n",
      "[4.6 3.2 0. ] dist: 0.10000000000000053\n",
      "[4.8 3.4 0. ] dist: 0.22360679774997858\n",
      "[4.6 3.4 0. ] dist: 0.22360679774997896\n",
      "[4.8 3.  0. ] dist: 0.22360679774997896\n"
     ]
    },
    {
     "data": {
      "image/png": "[encoded data removed]",
      "text/plain": [
       "<Figure size 432x288 with 1 Axes>"
      ]
     },
     "metadata": {
      "needs_background": "light"
     },
     "output_type": "display_data"
    },
    {
     "name": "stdout",
     "output_type": "stream",
     "text": [
      "press Enter to show next:\n",
      "test:\n",
      "[4.8 3.4 0. ] predict: 0.0\n",
      "nearest:\n",
      "[4.8 3.4 0. ] dist: 0.0\n",
      "[5.  3.4 0. ] dist: 0.20000000000000018\n",
      "[5.  3.4 0. ] dist: 0.20000000000000018\n",
      "[4.6 3.4 0. ] dist: 0.20000000000000018\n",
      "[4.7 3.2 0. ] dist: 0.22360679774997858\n"
     ]
    },
    {
     "data": {
      "image/png": "[encoded data removed]",
      "text/plain": [
       "<Figure size 432x288 with 1 Axes>"
      ]
     },
     "metadata": {
      "needs_background": "light"
     },
     "output_type": "display_data"
    },
    {
     "name": "stdout",
     "output_type": "stream",
     "text": [
      "press Enter to show next:\n",
      "test:\n",
      "[5.6 2.9 1. ] predict: 1.0\n",
      "nearest:\n",
      "[5.6 3.  1. ] dist: 0.10000000000000009\n",
      "[5.6 3.  1. ] dist: 0.10000000000000009\n",
      "[5.7 2.9 1. ] dist: 0.10000000000000053\n",
      "[5.7 3.  1. ] dist: 0.14142135623730995\n",
      "[5.7 2.8 1. ] dist: 0.14142135623730995\n"
     ]
    },
    {
     "data": {
      "image/png": "[encoded data removed]",
      "text/plain": [
       "<Figure size 432x288 with 1 Axes>"
      ]
     },
     "metadata": {
      "needs_background": "light"
     },
     "output_type": "display_data"
    },
    {
     "name": "stdout",
     "output_type": "stream",
     "text": [
      "press Enter to show next:\n",
      "test:\n",
      "[5.5 2.3 1. ] predict: 1.0\n",
      "nearest:\n",
      "[5.5 2.4 1. ] dist: 0.10000000000000009\n",
      "[5.5 2.4 1. ] dist: 0.10000000000000009\n",
      "[5.5 2.5 1. ] dist: 0.20000000000000018\n",
      "[5.6 2.5 1. ] dist: 0.22360679774997896\n",
      "[5.5 2.6 1. ] dist: 0.30000000000000027\n"
     ]
    },
    {
     "data": {
      "image/png": "[encoded data removed]",
      "text/plain": [
       "<Figure size 432x288 with 1 Axes>"
      ]
     },
     "metadata": {
      "needs_background": "light"
     },
     "output_type": "display_data"
    },
    {
     "name": "stdout",
     "output_type": "stream",
     "text": [
      "press Enter to show next:\n",
      "test:\n",
      "[4.6 3.1 0. ] predict: 0.0\n",
      "nearest:\n",
      "[4.6 3.2 0. ] dist: 0.10000000000000009\n",
      "[4.7 3.2 0. ] dist: 0.14142135623730995\n",
      "[4.8 3.1 0. ] dist: 0.20000000000000018\n",
      "[4.4 3.2 0. ] dist: 0.22360679774997838\n",
      "[4.4 3.  0. ] dist: 0.22360679774997838\n"
     ]
    },
    {
     "data": {
      "image/png": "[encoded data removed]",
      "text/plain": [
       "<Figure size 432x288 with 1 Axes>"
      ]
     },
     "metadata": {
      "needs_background": "light"
     },
     "output_type": "display_data"
    },
    {
     "name": "stdout",
     "output_type": "stream",
     "text": [
      "score: 1.0\n"
     ]
    }
   ],
   "source": [
    "kdt = kdTree()\n",
    "kdt.create(train)\n",
    "kdt.preOrder(kdt.kdTree)\n",
    "\n",
    "score = 0\n",
    "for x in test:\n",
    "    input('press Enter to show next:')\n",
    "    show_train()\n",
    "    plt.scatter(x[0], x[1], c='red', marker='x')  # 测试点\n",
    "    near, belong = kdt.search(x[:-1], 5)  # 设置临近点的个数\n",
    "    if belong == x[-1]:\n",
    "        score += 1\n",
    "    print(\"test:\")\n",
    "    print(x, \"predict:\", belong)\n",
    "    print(\"nearest:\")\n",
    "    for n in near:\n",
    "        print(n[1].data, \"dist:\", n[0])\n",
    "        plt.scatter(n[1].data[0], n[1].data[1], c='green', marker='+')  # k个最近邻点\n",
    "    plt.legend()\n",
    "    plt.show()\n",
    "\n",
    "score /= len(test)\n",
    "print(\"score:\", score)"
   ]
  },
  {
   "cell_type": "code",
   "execution_count": 24,
   "metadata": {},
   "outputs": [],
   "source": [
    "data = np.array(df.iloc[:100, [0, 1, -1]])\n",
    "X, y = data[:,:-1], data[:,-1]\n",
    "X_train, X_test, y_train, y_test = train_test_split(X, y, test_size=0.2)"
   ]
  },
  {
   "cell_type": "code",
   "execution_count": 25,
   "metadata": {},
   "outputs": [],
   "source": [
    "class KNN:\n",
    "    def __init__(self, X_train, y_train, n_neighbors=3, p=2):\n",
    "        \"\"\"\n",
    "        parameter: n_neighbors 临近点个数\n",
    "        parameter: p 距离度量\n",
    "        \"\"\"\n",
    "        self.n = n_neighbors\n",
    "        self.p = p\n",
    "        self.X_train = X_train\n",
    "        self.y_train = y_train\n",
    "    \n",
    "    def predict(self, X):\n",
    "        # 取出n个点\n",
    "        knn_list = []\n",
    "        for i in range(self.n):\n",
    "            dist = np.linalg.norm(X - self.X_train[i], ord=self.p)\n",
    "            knn_list.append((dist, self.y_train[i]))\n",
    "            \n",
    "        for i in range(self.n, len(self.X_train)):\n",
    "            max_index = knn_list.index(max(knn_list, key=lambda x: x[0]))\n",
    "            dist = np.linalg.norm(X - self.X_train[i], ord=self.p)\n",
    "            if knn_list[max_index][0] > dist:\n",
    "                knn_list[max_index] = (dist, self.y_train[i])\n",
    "                \n",
    "        # 统计\n",
    "        knn = [k[-1] for k in knn_list]\n",
    "        count_pairs = Counter(knn)\n",
    "        max_count = sorted(count_pairs, key=lambda x:x)[-1]\n",
    "        return max_count\n",
    "    \n",
    "    def score(self, X_test, y_test):\n",
    "        right_count = 0\n",
    "        n = 10\n",
    "        for X, y in zip(X_test, y_test):\n",
    "            label = self.predict(X)\n",
    "            if label == y:\n",
    "                right_count += 1\n",
    "        return right_count / len(X_test)"
   ]
  },
  {
   "cell_type": "code",
   "execution_count": 26,
   "metadata": {},
   "outputs": [],
   "source": [
    "clf = KNN(X_train, y_train)"
   ]
  },
  {
   "cell_type": "code",
   "execution_count": 28,
   "metadata": {},
   "outputs": [
    {
     "data": {
      "text/plain": [
       "1.0"
      ]
     },
     "execution_count": 28,
     "metadata": {},
     "output_type": "execute_result"
    }
   ],
   "source": [
    "from sklearn.datasets import load_iris\n",
    "from sklearn.model_selection import train_test_split\n",
    "\n",
    "from collections import Counter\n",
    "clf.score(X_test, y_test)"
   ]
  },
  {
   "cell_type": "code",
   "execution_count": 29,
   "metadata": {},
   "outputs": [
    {
     "name": "stdout",
     "output_type": "stream",
     "text": [
      "Test Point: 1.0\n"
     ]
    }
   ],
   "source": [
    "test_point = [6.0, 3.0]\n",
    "print('Test Point: {}'.format(clf.predict(test_point)))"
   ]
  },
  {
   "cell_type": "code",
   "execution_count": 31,
   "metadata": {},
   "outputs": [
    {
     "data": {
      "text/plain": [
       "<matplotlib.legend.Legend at 0x1c875319c50>"
      ]
     },
     "execution_count": 31,
     "metadata": {},
     "output_type": "execute_result"
    },
    {
     "data": {
      "image/png": "[encoded data removed]",
      "text/plain": [
       "<Figure size 432x288 with 1 Axes>"
      ]
     },
     "metadata": {
      "needs_background": "light"
     },
     "output_type": "display_data"
    }
   ],
   "source": [
    "plt.scatter(df[:50]['sepal_length'], df[:50]['sepal_width'], label='0')\n",
    "plt.scatter(df[50:100]['sepal_length'], df[50:100]['sepal_width'], label='1')\n",
    "plt.plot(test_point[0], test_point[1], 'bo', label='test_point')\n",
    "plt.xlabel('sepal length')\n",
    "plt.ylabel('sepal width')\n",
    "plt.legend()"
   ]
  },
  {
   "cell_type": "code",
   "execution_count": null,
   "metadata": {},
   "outputs": [],
   "source": []
  }
 ],
 "metadata": {
  "kernelspec": {
   "display_name": "Python 3",
   "language": "python",
   "name": "python3"
  },
  "language_info": {
   "codemirror_mode": {
    "name": "ipython",
    "version": 3
   },
   "file_extension": ".py",
   "mimetype": "text/x-python",
   "name": "python",
   "nbconvert_exporter": "python",
   "pygments_lexer": "ipython3",
   "version": "3.6.7"
  }
 },
 "nbformat": 4,
 "nbformat_minor": 2
}
